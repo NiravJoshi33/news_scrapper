{
 "cells": [
  {
   "cell_type": "markdown",
   "metadata": {},
   "source": [
    "#### Tasks\n",
    "- Fetch data from the webpages\n",
    "    - Access webpages\n",
    "    - Recognize different data types of the webpage\n",
    "    - Extract news body, title and image from the webpage\n",
    "- UI\n",
    "    - Small description of the news along with title and image\n",
    "    - Link to the original article\n",
    "    - Link to the next page"
   ]
  }
 ],
 "metadata": {
  "kernelspec": {
   "display_name": "base",
   "language": "python",
   "name": "python3"
  },
  "language_info": {
   "name": "python",
   "version": "3.11.4"
  },
  "orig_nbformat": 4
 },
 "nbformat": 4,
 "nbformat_minor": 2
}
