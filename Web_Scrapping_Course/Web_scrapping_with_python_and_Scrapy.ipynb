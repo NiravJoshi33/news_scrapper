{
 "cells": [
  {
   "cell_type": "markdown",
   "metadata": {},
   "source": [
    "## Scrapy\n",
    "\n",
    "- Python framework designed specifically for Web Scrapping. \n",
    "- Write **spiders** to retrieve HTML pages from websites and scrape data, clean & validate it, and store it in the format you want. "
   ]
  },
  {
   "cell_type": "code",
   "execution_count": null,
   "metadata": {},
   "outputs": [],
   "source": [
    "# sudo apt install python3-scrapy # install scrapy from terminal\n",
    "\n",
    "# scrapy startproject <project_name> # creates a project folder with template inside cwd\n",
    "\n",
    "# go to the spiders folder inside the project folder\n",
    "\n",
    "# scrapy genspider <spider_name> <website_url>"
   ]
  },
  {
   "cell_type": "code",
   "execution_count": null,
   "metadata": {},
   "outputs": [],
   "source": [
    "# Scrapy Shell\n",
    "\n",
    "# pip install ipython\n",
    "\n",
    "# Inside \"scrapy.cfg\", under [settings], add below line:\n",
    "# shell = ipython\n",
    "\n",
    "# In terminal, run command\n",
    "# scrapy shell\n",
    "\n",
    "# scrapy genspider <spider_name> <website_url> # to generate spider\n",
    "\n",
    "# scrapy crawl <spider_name> # run the spider\n",
    "\n",
    "# scrapy crawl <spider_name> -O <file_name.extension> # to save output of scrapping to a file"
   ]
  },
  {
   "cell_type": "code",
   "execution_count": null,
   "metadata": {},
   "outputs": [],
   "source": [
    "# For news scrapper project, following are the working commands\n",
    "\n",
    "# Website: https://dailyhodl.com/\n",
    "# All Articles: response.css(\"article.jeg_post.jeg_pl_lg_2.format-standard\")\n",
    "# URL for Article: article.css(\"div.jeg_thumb a\").attrib[\"href\"]\n",
    "# Title: article.css(\"h3 a::text\").get()\n",
    "# Thumbnail URL: article.css(\"img.attachment-jnews-350x250.size-jnews-350x250.wp-post-image \").attrib[\"src\"]\n",
    "# Excerpt: article.css(\"div.jeg_post_excerpt p::text\").get()\n",
    "# Date: article.css(\"div.jeg_meta_date a::text\").get()"
   ]
  },
  {
   "cell_type": "code",
   "execution_count": null,
   "metadata": {},
   "outputs": [],
   "source": []
  },
  {
   "cell_type": "code",
   "execution_count": null,
   "metadata": {},
   "outputs": [],
   "source": [
    "# Scrapy Shell\n"
   ]
  },
  {
   "cell_type": "markdown",
   "metadata": {},
   "source": [
    "## Resources\n",
    "- THE PYTHON SCRAPY PLAYBOOK\n",
    "    https://scrapeops.io/python-scrapy-playbook/\n",
    "    "
   ]
  }
 ],
 "metadata": {
  "kernelspec": {
   "display_name": "base",
   "language": "python",
   "name": "python3"
  },
  "language_info": {
   "codemirror_mode": {
    "name": "ipython",
    "version": 3
   },
   "file_extension": ".py",
   "mimetype": "text/x-python",
   "name": "python",
   "nbconvert_exporter": "python",
   "pygments_lexer": "ipython3",
   "version": "3.11.4"
  },
  "orig_nbformat": 4
 },
 "nbformat": 4,
 "nbformat_minor": 2
}
